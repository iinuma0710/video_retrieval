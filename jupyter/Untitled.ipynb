{
 "cells": [
  {
   "cell_type": "code",
   "execution_count": 16,
   "metadata": {},
   "outputs": [],
   "source": [
    "import cv2\n",
    "import math\n",
    "import numpy as np"
   ]
  },
  {
   "cell_type": "code",
   "execution_count": 17,
   "metadata": {},
   "outputs": [],
   "source": [
    "# 映像のキャプチャ\n",
    "cap = cv2.VideoCapture(\"shot0_1001.mp4\")"
   ]
  },
  {
   "cell_type": "code",
   "execution_count": 18,
   "metadata": {},
   "outputs": [
    {
     "name": "stdout",
     "output_type": "stream",
     "text": [
      "幅 :  768.0\n",
      "高さ :  576.0\n",
      "フレームレート :  25.0\n",
      "フレーム数 :  179.0\n"
     ]
    }
   ],
   "source": [
    "# 映像プロパティの取得\n",
    "# float で取得される\n",
    "print(\"幅 : \", cap.get(cv2.CAP_PROP_FRAME_WIDTH))\n",
    "print(\"高さ : \", cap.get(cv2.CAP_PROP_FRAME_HEIGHT))\n",
    "print(\"フレームレート : \", cap.get(cv2.CAP_PROP_FPS))\n",
    "print(\"フレーム数 : \", cap.get(cv2.CAP_PROP_FRAME_COUNT))"
   ]
  },
  {
   "cell_type": "code",
   "execution_count": 19,
   "metadata": {},
   "outputs": [],
   "source": [
    "# ビデオクリップ数\n",
    "frame_count = int(cap.get(cv2.CAP_PROP_FRAME_COUNT))\n",
    "if frame_count >= 64:\n",
    "    frames_per_clip = 64\n",
    "elif frame_count < 64 and frame_count >= 32:\n",
    "    frames_per_clip = 32\n",
    "else:\n",
    "    print(\"This viodeo is too short...\")\n",
    "clip_num = math.ceil(frame_count / frames_per_clip)\n",
    "duplicate_frams = [0] + [(frames_per_clip * clip_num - frame_count + i) // (clip_num - 1) for i in range(clip_num - 1)]"
   ]
  },
  {
   "cell_type": "code",
   "execution_count": 20,
   "metadata": {},
   "outputs": [
    {
     "data": {
      "text/plain": [
       "[0, 6, 7]"
      ]
     },
     "execution_count": 20,
     "metadata": {},
     "output_type": "execute_result"
    }
   ],
   "source": [
    "duplicate_frams"
   ]
  },
  {
   "cell_type": "code",
   "execution_count": 21,
   "metadata": {},
   "outputs": [],
   "source": [
    "# フレーム画像の切り出し\n",
    "frame_image_list = []\n",
    "while True:\n",
    "    ret, frame = cap.read()\n",
    "    if ret:\n",
    "        frame_image_list.append(frame)\n",
    "    else:\n",
    "        break"
   ]
  },
  {
   "cell_type": "code",
   "execution_count": 22,
   "metadata": {},
   "outputs": [
    {
     "data": {
      "text/plain": [
       "179"
      ]
     },
     "execution_count": 22,
     "metadata": {},
     "output_type": "execute_result"
    }
   ],
   "source": [
    "len(frame_image_list)"
   ]
  },
  {
   "cell_type": "code",
   "execution_count": 23,
   "metadata": {},
   "outputs": [],
   "source": [
    "# ビデオクリップのフレームの番号を選択\n",
    "frame_idx_list = []\n",
    "for clip_idx in range(clip_num):\n",
    "    first_frame_idx = clip_idx * frames_per_clip - sum(duplicate_frams[:clip_idx + 1])\n",
    "    if frames_per_clip == 64:\n",
    "        frame_idx = [first_frame_idx + i * 2 for i in range(32)]\n",
    "    else:\n",
    "        frame_idx = [first_frame_idx + i for i in range(32)]\n",
    "    frame_idx_list.append(frame_idx)"
   ]
  },
  {
   "cell_type": "code",
   "execution_count": 25,
   "metadata": {},
   "outputs": [],
   "source": [
    "# ビデオクリップを作成する\n",
    "video_clip_list = []\n",
    "for frame_indexes in frame_idx_list:\n",
    "    frame_images = [cv2.cvtColor(frame_image_list[idx], cv2.COLOR_BGR2RGB) for idx in frame_indexes]\n",
    "    video_clip_list.append(frame_images)"
   ]
  },
  {
   "cell_type": "code",
   "execution_count": 26,
   "metadata": {},
   "outputs": [
    {
     "name": "stdout",
     "output_type": "stream",
     "text": [
      "3\n",
      "32\n",
      "(576, 768, 3)\n"
     ]
    }
   ],
   "source": [
    "print(len(video_clip_list))\n",
    "print(len(video_clip_list[0]))\n",
    "print(video_clip_list[0][0].shape)"
   ]
  },
  {
   "cell_type": "code",
   "execution_count": 27,
   "metadata": {},
   "outputs": [],
   "source": [
    "def split_video(video_path):\n",
    "    # 映像のプロパティを取得\n",
    "    cap = cv2.VideoCapture(video_path)\n",
    "    frame_count = int(cap.get(cv2.CAP_PROP_FRAME_COUNT))\n",
    "    \n",
    "    # 1ビデオクリップのフレーム数を決める\n",
    "    if frame_count >= 64:\n",
    "        frames_per_clip = 64\n",
    "    elif frame_count < 64 and frame_count >= 32:\n",
    "        frames_per_clip = 32\n",
    "    else:\n",
    "        print(\"This viodeo is too short...\")\n",
    "        return None\n",
    "    clip_num = math.ceil(frame_count / frames_per_clip)\n",
    "    duplicate_frams = [0] + [(frames_per_clip * clip_num - frame_count + i) // (clip_num - 1) for i in range(clip_num - 1)]\n",
    "    \n",
    "    # フレーム画像の取得\n",
    "    frame_image_list = []\n",
    "    while True:\n",
    "        ret, frame = cap.read()\n",
    "        if ret:\n",
    "            frame_image_list.append(frame)\n",
    "        else:\n",
    "            break\n",
    "    \n",
    "    # ビデオクリップのフレームの番号を選択\n",
    "    frame_idx_list = []\n",
    "    for clip_idx in range(clip_num):\n",
    "        first_frame_idx = clip_idx * frames_per_clip - sum(duplicate_frams[:clip_idx + 1])\n",
    "        if frames_per_clip == 64:\n",
    "            frame_idx = [first_frame_idx + i * 2 for i in range(32)]\n",
    "        else:\n",
    "            frame_idx = [first_frame_idx + i for i in range(32)]\n",
    "        frame_idx_list.append(frame_idx)\n",
    "        \n",
    "    # ビデオクリップを作成する\n",
    "    video_clip_list = []\n",
    "    for frame_indexes in frame_idx_list:\n",
    "        frame_images = [cv2.cvtColor(frame_image_list[idx], cv2.COLOR_BGR2RGB) for idx in frame_indexes]\n",
    "        video_clip_list.append(frame_images)\n",
    "        \n",
    "    return video_clip_list"
   ]
  },
  {
   "cell_type": "code",
   "execution_count": 29,
   "metadata": {},
   "outputs": [],
   "source": [
    "video_clip_list = split_video(\"shot0_1001.mp4\")"
   ]
  },
  {
   "cell_type": "code",
   "execution_count": 32,
   "metadata": {},
   "outputs": [
    {
     "name": "stdout",
     "output_type": "stream",
     "text": [
      "32\n"
     ]
    }
   ],
   "source": [
    "print(len(video_clip_list[0]))"
   ]
  },
  {
   "cell_type": "code",
   "execution_count": null,
   "metadata": {},
   "outputs": [],
   "source": []
  }
 ],
 "metadata": {
  "kernelspec": {
   "display_name": "Python 3",
   "language": "python",
   "name": "python3"
  },
  "language_info": {
   "codemirror_mode": {
    "name": "ipython",
    "version": 3
   },
   "file_extension": ".py",
   "mimetype": "text/x-python",
   "name": "python",
   "nbconvert_exporter": "python",
   "pygments_lexer": "ipython3",
   "version": "3.7.3"
  }
 },
 "nbformat": 4,
 "nbformat_minor": 2
}
