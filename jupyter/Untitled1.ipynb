{
 "cells": [
  {
   "cell_type": "code",
   "execution_count": 2,
   "metadata": {},
   "outputs": [],
   "source": [
    "import numpy as np\n",
    "\n",
    "features = np.load(\"../data/features/kinetics_100.npy\")\n",
    "labels = np.load(\"../data/features/kinetics_100_labels.npy\")"
   ]
  },
  {
   "cell_type": "code",
   "execution_count": 4,
   "metadata": {},
   "outputs": [
    {
     "data": {
      "text/plain": [
       "(48, 2304)"
      ]
     },
     "execution_count": 4,
     "metadata": {},
     "output_type": "execute_result"
    }
   ],
   "source": [
    "features.shape"
   ]
  },
  {
   "cell_type": "code",
   "execution_count": 6,
   "metadata": {},
   "outputs": [
    {
     "data": {
      "text/plain": [
       "array([[44,  3],\n",
       "       [19,  1],\n",
       "       [22,  1],\n",
       "       [41,  3],\n",
       "       [29,  2],\n",
       "       [25,  2],\n",
       "       [18,  1],\n",
       "       [39,  3],\n",
       "       [23,  1],\n",
       "       [ 4,  0],\n",
       "       [20,  1],\n",
       "       [ 2,  0],\n",
       "       [36,  3],\n",
       "       [15,  1],\n",
       "       [32,  2],\n",
       "       [33,  2],\n",
       "       [ 1,  0],\n",
       "       [26,  2],\n",
       "       [13,  1],\n",
       "       [ 3,  0],\n",
       "       [40,  3],\n",
       "       [31,  2],\n",
       "       [10,  0],\n",
       "       [27,  2],\n",
       "       [21,  1],\n",
       "       [14,  1],\n",
       "       [30,  2],\n",
       "       [12,  1],\n",
       "       [35,  2],\n",
       "       [ 5,  0],\n",
       "       [ 0,  0],\n",
       "       [ 6,  0],\n",
       "       [37,  3],\n",
       "       [28,  2],\n",
       "       [38,  3],\n",
       "       [43,  3],\n",
       "       [46,  3],\n",
       "       [11,  0],\n",
       "       [45,  3],\n",
       "       [47,  3],\n",
       "       [ 9,  0],\n",
       "       [24,  2],\n",
       "       [ 8,  0],\n",
       "       [17,  1],\n",
       "       [42,  3],\n",
       "       [34,  2],\n",
       "       [ 7,  0],\n",
       "       [16,  1]])"
      ]
     },
     "execution_count": 6,
     "metadata": {},
     "output_type": "execute_result"
    }
   ],
   "source": [
    "labels"
   ]
  },
  {
   "cell_type": "code",
   "execution_count": 8,
   "metadata": {},
   "outputs": [
    {
     "data": {
      "text/plain": [
       "array([0.00815229, 0.00084763, 0.0009454 , ..., 0.15005532, 0.05517099,\n",
       "       0.        ], dtype=float32)"
      ]
     },
     "execution_count": 8,
     "metadata": {},
     "output_type": "execute_result"
    }
   ],
   "source": [
    "features[30]"
   ]
  },
  {
   "cell_type": "code",
   "execution_count": 10,
   "metadata": {},
   "outputs": [
    {
     "data": {
      "text/plain": [
       "array([ True,  True,  True, ...,  True,  True,  True])"
      ]
     },
     "execution_count": 10,
     "metadata": {},
     "output_type": "execute_result"
    }
   ],
   "source": [
    "features[27] == features[30]"
   ]
  },
  {
   "cell_type": "code",
   "execution_count": 11,
   "metadata": {},
   "outputs": [
    {
     "data": {
      "text/plain": [
       "array([3, 1, 1, 3, 2, 2, 1, 3, 1, 0, 1, 0, 3, 1, 2, 2, 0, 2, 1, 0, 3, 2,\n",
       "       0, 2, 1, 1, 2, 1, 2, 0, 0, 0, 3, 2, 3, 3, 3, 0, 3, 3, 0, 2, 0, 1,\n",
       "       3, 2, 0, 1])"
      ]
     },
     "execution_count": 11,
     "metadata": {},
     "output_type": "execute_result"
    }
   ],
   "source": [
    "labels[:, 1]"
   ]
  },
  {
   "cell_type": "code",
   "execution_count": 20,
   "metadata": {},
   "outputs": [
    {
     "data": {
      "text/plain": [
       "(2304,)"
      ]
     },
     "execution_count": 20,
     "metadata": {},
     "output_type": "execute_result"
    }
   ],
   "source": [
    "np.mean(features[np.where(labels[:, 1] == 3)], axis=0).shape"
   ]
  },
  {
   "cell_type": "code",
   "execution_count": 23,
   "metadata": {},
   "outputs": [],
   "source": [
    "fvs = np.array([np.mean(features[np.where(labels[:, 1] == idx)], axis=0) for idx in range(int(len(features) / 12))])"
   ]
  },
  {
   "cell_type": "code",
   "execution_count": 29,
   "metadata": {},
   "outputs": [
    {
     "name": "stdout",
     "output_type": "stream",
     "text": [
      "0 1 [ True False False ...  True False  True]\n",
      "0 2 [False  True False ...  True False  True]\n",
      "0 3 [ True  True  True ... False  True  True]\n",
      "1 2 [False False  True ...  True  True  True]\n",
      "1 3 [ True False False ... False False  True]\n",
      "2 3 [False  True False ... False False  True]\n"
     ]
    }
   ],
   "source": [
    "for i in range(len(fvs)):\n",
    "    for j in range(i+1, len(fvs)):\n",
    "        print(i, j, fvs[i] == fvs[j])"
   ]
  },
  {
   "cell_type": "code",
   "execution_count": 30,
   "metadata": {},
   "outputs": [
    {
     "data": {
      "text/plain": [
       "array([[0.04242902, 0.00945257, 0.02600949, ..., 0.19738941, 0.02332885,\n",
       "        0.00022898],\n",
       "       [0.04242902, 0.00945256, 0.02600948, ..., 0.19738941, 0.02332884,\n",
       "        0.00022898],\n",
       "       [0.04242901, 0.00945257, 0.02600948, ..., 0.19738941, 0.02332884,\n",
       "        0.00022898],\n",
       "       [0.04242902, 0.00945257, 0.02600949, ..., 0.19738942, 0.02332885,\n",
       "        0.00022898]], dtype=float32)"
      ]
     },
     "execution_count": 30,
     "metadata": {},
     "output_type": "execute_result"
    }
   ],
   "source": [
    "fvs"
   ]
  },
  {
   "cell_type": "code",
   "execution_count": 32,
   "metadata": {},
   "outputs": [],
   "source": [
    "a = np.load(\"../data/eastenders/feature_label_32/feature_0.npy\")"
   ]
  },
  {
   "cell_type": "code",
   "execution_count": 33,
   "metadata": {},
   "outputs": [
    {
     "data": {
      "text/plain": [
       "278968"
      ]
     },
     "execution_count": 33,
     "metadata": {},
     "output_type": "execute_result"
    }
   ],
   "source": [
    "len(a)"
   ]
  },
  {
   "cell_type": "code",
   "execution_count": null,
   "metadata": {},
   "outputs": [],
   "source": []
  }
 ],
 "metadata": {
  "kernelspec": {
   "display_name": "Python 3",
   "language": "python",
   "name": "python3"
  },
  "language_info": {
   "codemirror_mode": {
    "name": "ipython",
    "version": 3
   },
   "file_extension": ".py",
   "mimetype": "text/x-python",
   "name": "python",
   "nbconvert_exporter": "python",
   "pygments_lexer": "ipython3",
   "version": "3.7.3"
  }
 },
 "nbformat": 4,
 "nbformat_minor": 2
}
