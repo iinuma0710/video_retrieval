{
 "cells": [
  {
   "cell_type": "code",
   "execution_count": 8,
   "metadata": {},
   "outputs": [],
   "source": [
    "import xml.etree.ElementTree as ET\n",
    "\n",
    "auto_topics = \"/net/per610a/export/das18a/satoh-lab/share/datasets/trecvid/INS/topics/ins.auto.topics.2019.xml\"\n",
    "progress_topics = \"/net/per610a/export/das18a/satoh-lab/share/datasets/trecvid/INS/topics/ins.progress.topics.2019.xml\"\n",
    "interactive_topics = \"/net/per610a/export/das18a/satoh-lab/share/datasets/trecvid/INS/topics/ins.interactive.topics.2019.xml\"\n",
    "topics = [auto_topics, progress_topics, interactive_topics]"
   ]
  },
  {
   "cell_type": "code",
   "execution_count": 19,
   "metadata": {},
   "outputs": [],
   "source": [
    "action_id_dict = {}\n",
    "for topic in topics:\n",
    "    root = ET.parse(topic).getroot()\n",
    "    for child in root:\n",
    "        if child.attrib['action'] in action_id_dict:\n",
    "            action_id_dict[child.attrib['action']].append(int(child.attrib['num']))\n",
    "        else:\n",
    "            action_id_dict[child.attrib['action']] = [int(child.attrib['num'])]\n",
    "            \n",
    "topic_ids = []\n",
    "for key in action_id_dict:\n",
    "    topic_ids += action_id_dict[key]\n",
    "    action_id_dict[key] = set(action_id_dict[key])"
   ]
  },
  {
   "cell_type": "code",
   "execution_count": 20,
   "metadata": {},
   "outputs": [
    {
     "data": {
      "text/plain": [
       "{'holding_glass': {9249, 9250, 9251, 9252},\n",
       " 'sit_on_couch': {9253, 9254, 9269, 9279, 9280},\n",
       " 'holding_phone': {9255, 9256, 9257, 9281, 9282},\n",
       " 'drinking': {9258, 9272, 9273, 9283, 9284},\n",
       " 'open_door_enter': {9259, 9260, 9287, 9288},\n",
       " 'shouting': {9261, 9262, 9274, 9289, 9290},\n",
       " 'eating': {9263, 9264},\n",
       " 'crying': {9265, 9275},\n",
       " 'laughing': {9266, 9276},\n",
       " 'open_door_leave': {9267, 9277, 9293, 9294},\n",
       " 'go_up_down_stairs': {9268, 9278},\n",
       " 'carrying_bag': {9270, 9271},\n",
       " 'kissing': {9285, 9286},\n",
       " 'hugging': {9291, 9292},\n",
       " 'stand_talk_door': {9295, 9296},\n",
       " 'close_door_wo_leaving': {9297, 9298}}"
      ]
     },
     "execution_count": 20,
     "metadata": {},
     "output_type": "execute_result"
    }
   ],
   "source": [
    "action_id_dict"
   ]
  },
  {
   "cell_type": "code",
   "execution_count": 25,
   "metadata": {},
   "outputs": [],
   "source": [
    "import csv\n",
    "\n",
    "label_num = 1\n",
    "action_label_num_list = []\n",
    "action_id_num_list = []\n",
    "for k, v in action_id_dict.items():\n",
    "    action_label_num_list.append([k, label_num])\n",
    "    action_id_num_list += [[topic_id, label_num] for topic_id in v]\n",
    "    label_num += 1\n",
    "    \n",
    "with open(\"../data/eastenders/action_labal_num.csv\", \"w\") as fp:\n",
    "    writer = csv.writer(fp, delimiter=' ')\n",
    "    writer.writerows(action_label_num_list)\n",
    "    \n",
    "with open(\"../data/eastenders/action_id_num.csv\", \"w\") as fp:\n",
    "    writer = csv.writer(fp, delimiter=' ')\n",
    "    writer.writerows(action_id_num_list)"
   ]
  },
  {
   "cell_type": "code",
   "execution_count": 30,
   "metadata": {},
   "outputs": [],
   "source": [
    "with open(\"../data/eastenders/action_id_num.csv\", \"r\") as fp:\n",
    "    rows = csv.reader(fp, delimiter=' ')\n",
    "    num_id_dict = {row[0]: row[1] for row in rows}\n",
    "    \n",
    "with open(\"/net/per610a/export/das18a/satoh-lab/share/datasets/trecvid/INS/ins.search.qrels.tv19\") as f:\n",
    "    rows = [row.split() for row in f.readlines()]\n",
    "    gt_list = [[row[2], num_id_dict[row[0]]] for row in rows]\n",
    "    \n",
    "with open(\"../data/eastenders/grand_truth.csv\", \"w\") as fp:\n",
    "    writer = csv.writer(fp, delimiter=' ')\n",
    "    writer.writerows(gt_list)"
   ]
  },
  {
   "cell_type": "code",
   "execution_count": 26,
   "metadata": {},
   "outputs": [],
   "source": [
    "with open(\"/net/per610a/export/das18a/satoh-lab/share/datasets/trecvid/INS/ins.search.qrels.tv19\") as f:\n",
    "    rows = [row.split() for row in f.readlines()]"
   ]
  },
  {
   "cell_type": "code",
   "execution_count": 27,
   "metadata": {},
   "outputs": [
    {
     "data": {
      "text/plain": [
       "['9249', '0', 'shot100_100', '0']"
      ]
     },
     "execution_count": 27,
     "metadata": {},
     "output_type": "execute_result"
    }
   ],
   "source": [
    "rows[0]"
   ]
  },
  {
   "cell_type": "code",
   "execution_count": 29,
   "metadata": {},
   "outputs": [
    {
     "data": {
      "text/plain": [
       "{'9249': '1',\n",
       " '9250': '1',\n",
       " '9251': '1',\n",
       " '9252': '1',\n",
       " '9280': '2',\n",
       " '9253': '2',\n",
       " '9254': '2',\n",
       " '9269': '2',\n",
       " '9279': '2',\n",
       " '9281': '3',\n",
       " '9282': '3',\n",
       " '9255': '3',\n",
       " '9256': '3',\n",
       " '9257': '3',\n",
       " '9283': '4',\n",
       " '9284': '4',\n",
       " '9258': '4',\n",
       " '9272': '4',\n",
       " '9273': '4',\n",
       " '9288': '5',\n",
       " '9259': '5',\n",
       " '9260': '5',\n",
       " '9287': '5',\n",
       " '9289': '6',\n",
       " '9290': '6',\n",
       " '9261': '6',\n",
       " '9262': '6',\n",
       " '9274': '6',\n",
       " '9264': '7',\n",
       " '9263': '7',\n",
       " '9265': '8',\n",
       " '9275': '8',\n",
       " '9266': '9',\n",
       " '9276': '9',\n",
       " '9267': '10',\n",
       " '9293': '10',\n",
       " '9277': '10',\n",
       " '9294': '10',\n",
       " '9268': '11',\n",
       " '9278': '11',\n",
       " '9270': '12',\n",
       " '9271': '12',\n",
       " '9285': '13',\n",
       " '9286': '13',\n",
       " '9291': '14',\n",
       " '9292': '14',\n",
       " '9296': '15',\n",
       " '9295': '15',\n",
       " '9297': '16',\n",
       " '9298': '16'}"
      ]
     },
     "execution_count": 29,
     "metadata": {},
     "output_type": "execute_result"
    }
   ],
   "source": [
    "num_id_dict"
   ]
  },
  {
   "cell_type": "code",
   "execution_count": null,
   "metadata": {},
   "outputs": [],
   "source": []
  }
 ],
 "metadata": {
  "kernelspec": {
   "display_name": "Python 3",
   "language": "python",
   "name": "python3"
  },
  "language_info": {
   "codemirror_mode": {
    "name": "ipython",
    "version": 3
   },
   "file_extension": ".py",
   "mimetype": "text/x-python",
   "name": "python",
   "nbconvert_exporter": "python",
   "pygments_lexer": "ipython3",
   "version": "3.7.3"
  }
 },
 "nbformat": 4,
 "nbformat_minor": 2
}
