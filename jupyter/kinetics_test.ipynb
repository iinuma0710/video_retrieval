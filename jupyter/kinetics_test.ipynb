{
 "cells": [
  {
   "cell_type": "code",
   "execution_count": 1,
   "metadata": {},
   "outputs": [],
   "source": [
    "import os\n",
    "import csv"
   ]
  },
  {
   "cell_type": "code",
   "execution_count": 2,
   "metadata": {},
   "outputs": [],
   "source": [
    "data_dir = \"/net/per610a/export/das18a/satoh-lab/share/datasets/kinetics600_resized\""
   ]
  },
  {
   "cell_type": "code",
   "execution_count": 3,
   "metadata": {},
   "outputs": [],
   "source": [
    "with open(os.path.join(data_dir, \"test.csv\"), \"r\") as f:\n",
    "    videos = [v for v in csv.reader(f, delimiter=\" \")]"
   ]
  },
  {
   "cell_type": "code",
   "execution_count": 7,
   "metadata": {},
   "outputs": [],
   "source": [
    "with open(\"test.csv\", \"r\") as f:\n",
    "    original_videos = [v for v in csv.reader(f)]"
   ]
  },
  {
   "cell_type": "code",
   "execution_count": 12,
   "metadata": {},
   "outputs": [],
   "source": [
    "cnt = 0\n",
    "for v in original_videos[1:]:\n",
    "    file = v[1] + \"_\" + v[2].zfill(6) + \"_\" + v[3].zfill(6) + \".mp4\"\n",
    "    if not os.path.exists(os.path.join(data_dir, \"test\", file)):\n",
    "        cnt += 1"
   ]
  },
  {
   "cell_type": "code",
   "execution_count": 13,
   "metadata": {},
   "outputs": [
    {
     "data": {
      "text/plain": [
       "717"
      ]
     },
     "execution_count": 13,
     "metadata": {},
     "output_type": "execute_result"
    }
   ],
   "source": [
    "cnt"
   ]
  },
  {
   "cell_type": "code",
   "execution_count": 14,
   "metadata": {},
   "outputs": [
    {
     "data": {
      "text/plain": [
       "['juggling fire', 'zzzkS3amkWE', '124', '134', 'test']"
      ]
     },
     "execution_count": 14,
     "metadata": {},
     "output_type": "execute_result"
    }
   ],
   "source": [
    "with open(os.path.join(data_dir, \"test_200_ret.csv\"), \"r\") as f:\n",
    "    videos = [v for v in csv.reader(f, delimiter=\" \")]"
   ]
  },
  {
   "cell_type": "code",
   "execution_count": 18,
   "metadata": {},
   "outputs": [],
   "source": [
    "labels = []\n",
    "with open(os.path.join(data_dir, \"test_200.csv\"), \"r\") as f:\n",
    "    rows = csv.reader(f, delimiter=\" \")\n",
    "    for r in rows:\n",
    "        if r[1] not in labels:\n",
    "            labels.append(r[1])"
   ]
  },
  {
   "cell_type": "code",
   "execution_count": 19,
   "metadata": {},
   "outputs": [
    {
     "data": {
      "text/plain": [
       "200"
      ]
     },
     "execution_count": 19,
     "metadata": {},
     "output_type": "execute_result"
    }
   ],
   "source": [
    "len(labels)"
   ]
  },
  {
   "cell_type": "code",
   "execution_count": 20,
   "metadata": {},
   "outputs": [],
   "source": [
    "labels_100 = []\n",
    "with open(os.path.join(data_dir, \"test_100.csv\"), \"r\") as f:\n",
    "    rows = csv.reader(f, delimiter=\" \")\n",
    "    for r in rows:\n",
    "        if r[1] not in labels_100:\n",
    "            labels_100.append(r[1])"
   ]
  },
  {
   "cell_type": "code",
   "execution_count": 21,
   "metadata": {},
   "outputs": [
    {
     "data": {
      "text/plain": [
       "100"
      ]
     },
     "execution_count": 21,
     "metadata": {},
     "output_type": "execute_result"
    }
   ],
   "source": [
    "len(labels_100)"
   ]
  },
  {
   "cell_type": "code",
   "execution_count": 22,
   "metadata": {},
   "outputs": [],
   "source": [
    "for l in labels_100:\n",
    "    if l not in labels:\n",
    "        print(l)"
   ]
  },
  {
   "cell_type": "code",
   "execution_count": 25,
   "metadata": {},
   "outputs": [],
   "source": [
    "with open(\"../data/kinetics600_resized/test_200_ret.csv\", \"r\") as f:\n",
    "    rows = [r for r in csv.reader(f, delimiter=\" \")]\n",
    "    rows = [[r[0], i] for i, r in enumerate(rows)]"
   ]
  },
  {
   "cell_type": "code",
   "execution_count": 28,
   "metadata": {},
   "outputs": [],
   "source": [
    "for i in range(4):\n",
    "    r = rows[i*9433:(i+1)*9433]\n",
    "    with open(\"../data/kinetics600_resized/kinetics_ret_{}.csv\".format(i), \"w\") as f:\n",
    "        writer = csv.writer(f, delimiter=\" \")\n",
    "        writer.writerows(r)"
   ]
  },
  {
   "cell_type": "code",
   "execution_count": null,
   "metadata": {},
   "outputs": [],
   "source": []
  }
 ],
 "metadata": {
  "kernelspec": {
   "display_name": "Python 3",
   "language": "python",
   "name": "python3"
  },
  "language_info": {
   "codemirror_mode": {
    "name": "ipython",
    "version": 3
   },
   "file_extension": ".py",
   "mimetype": "text/x-python",
   "name": "python",
   "nbconvert_exporter": "python",
   "pygments_lexer": "ipython3",
   "version": "3.7.3"
  }
 },
 "nbformat": 4,
 "nbformat_minor": 2
}
