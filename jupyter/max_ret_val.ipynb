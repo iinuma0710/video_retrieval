{
 "cells": [
  {
   "cell_type": "code",
   "execution_count": 145,
   "metadata": {},
   "outputs": [],
   "source": [
    "import csv\n",
    "import numpy as np\n",
    "import matplotlib.pyplot as plt"
   ]
  },
  {
   "cell_type": "code",
   "execution_count": 44,
   "metadata": {},
   "outputs": [],
   "source": [
    "# データの読み込み\n",
    "gallery_action_fvs = np.load(\"/net/per610a/export/das18a/satoh-lab/share/datasets/eastenders/trecvid_2019/gallery/action_features.npy\")\n",
    "gallery_person_fvs = np.load(\"/net/per610a/export/das18a/satoh-lab/share/datasets/eastenders/trecvid_2019/gallery/person_features.npy\")\n",
    "query_action_fvs = np.load(\"/net/per610a/export/das18a/satoh-lab/share/datasets/eastenders/trecvid_2019/query/action_features.npy\")\n",
    "query_person_fvs = np.load(\"/net/per610a/export/das18a/satoh-lab/share/datasets/eastenders/trecvid_2019/query/person_features.npy\")"
   ]
  },
  {
   "cell_type": "code",
   "execution_count": 114,
   "metadata": {},
   "outputs": [],
   "source": [
    "query_action_label = '1'\n",
    "query_person_label = '8'\n",
    "\n",
    "# クエリの読み込み\n",
    "with open(\"/net/per610a/export/das18a/satoh-lab/share/datasets/eastenders/trecvid_2019/query/features.csv\", \"r\") as f:\n",
    "    rows = csv.reader(f, delimiter=\" \")\n",
    "    query_list = [r for r in rows if r[6] == query_action_label and r[7] == query_person_label]\n",
    "    \n",
    "query_action_idx_list = list(set([int(q[3]) for q in query_list]))\n",
    "query_person_idx_list = list(set([int(q[4]) for q in query_list]))"
   ]
  },
  {
   "cell_type": "code",
   "execution_count": 115,
   "metadata": {},
   "outputs": [],
   "source": [
    "# コサイン類似度\n",
    "def cosine_similarity(query_fv, gallery_fvs):\n",
    "    sim_list = np.array([np.dot(query_fv, gallery_fv) for gallery_fv in gallery_fvs])\n",
    "    return np.argsort(-sim_list)"
   ]
  },
  {
   "cell_type": "code",
   "execution_count": 116,
   "metadata": {},
   "outputs": [],
   "source": [
    "# L2 類似度\n",
    "def l2_similarity(query_fv, gallery_fvs):\n",
    "    sim_list = np.array([np.sum((query_fv - gallery_fv) ** 2) for gallery_fv in gallery_fvs])\n",
    "    return np.argsort(sim_list)"
   ]
  },
  {
   "cell_type": "code",
   "execution_count": 117,
   "metadata": {},
   "outputs": [],
   "source": [
    "# AP の計算\n",
    "def calc_ap(gt_label, gallery_labels):\n",
    "    total_num = 0\n",
    "    correct_num = 0\n",
    "    precision_sum = 0.0\n",
    "    \n",
    "    for gallery_label in gallery_labels:\n",
    "        total_num += 1\n",
    "        if gallery_label == gt_label:\n",
    "            correct_num += 1\n",
    "            precision_sum += correct_num / total_num\n",
    "           \n",
    "    ap = precision_sum / correct_num\n",
    "    return ap"
   ]
  },
  {
   "cell_type": "code",
   "execution_count": 118,
   "metadata": {},
   "outputs": [],
   "source": [
    "# 手作業でアノテーションをつけた映像のデータ\n",
    "action_fvs = []\n",
    "person_fvs = []\n",
    "action_labels = []\n",
    "person_labels = []\n",
    "action_video_paths = []\n",
    "person_video_paths = []\n",
    "person_action_idxes = []\n",
    "person_action_labels = []\n",
    "with open(\"./features.csv\", \"r\") as f:\n",
    "    rows = csv.reader(f, delimiter=\" \")\n",
    "    for row in rows:\n",
    "        _, _, _, action_idx, person_idx, video_path, action_label, person_label = row\n",
    "        person_fvs.append(gallery_person_fvs[int(person_idx)])\n",
    "        person_labels.append(int(person_label))\n",
    "        person_video_paths.append(video_path)\n",
    "        person_action_idxes.append(int(action_idx))\n",
    "        person_action_labels.append(int(action_label))\n",
    "        if person_label == query_person_label:\n",
    "            action_fvs.append(gallery_action_fvs[int(action_idx)])\n",
    "            action_labels.append(int(action_label))\n",
    "            action_video_paths.append(video_path)\n",
    "\n",
    "action_fvs = np.array(action_fvs)\n",
    "person_fvs = np.array(person_fvs)"
   ]
  },
  {
   "cell_type": "code",
   "execution_count": 156,
   "metadata": {},
   "outputs": [
    {
     "name": "stdout",
     "output_type": "stream",
     "text": [
      "Query index :  0\n",
      "AP :  0.11045219730208569\n",
      "[99, 99, 1, 99, 99, 99, 99, 1, 99, 1]\n",
      "['/net/per610a/export/das18a/satoh-lab/share/datasets/eastenders/video_detected/shot155_838_id_1656133.mp4', '/net/per610a/export/das18a/satoh-lab/share/datasets/eastenders/video_detected/shot155_736_id_1655700.mp4', '/net/per610a/export/das18a/satoh-lab/share/datasets/eastenders/video_detected/shot74_467_id_836622.mp4', '/net/per610a/export/das18a/satoh-lab/share/datasets/eastenders/video_detected/shot109_1426_id_1182236.mp4', '/net/per610a/export/das18a/satoh-lab/share/datasets/eastenders/video_detected/shot169_1390_id_1808241.mp4', '/net/per610a/export/das18a/satoh-lab/share/datasets/eastenders/video_detected/shot190_381_id_2010346.mp4', '/net/per610a/export/das18a/satoh-lab/share/datasets/eastenders/video_detected/shot184_917_id_1943087.mp4', '/net/per610a/export/das18a/satoh-lab/share/datasets/eastenders/video_detected/shot37_905_id_403897.mp4', '/net/per610a/export/das18a/satoh-lab/share/datasets/eastenders/video_detected/shot141_890_id_1519635.mp4', '/net/per610a/export/das18a/satoh-lab/share/datasets/eastenders/video_detected/shot156_554_id_1662692.mp4']\n",
      "\n",
      "mAP :  0.027613049325521423\n"
     ]
    }
   ],
   "source": [
    "# 動作による映像検索\n",
    "mAP = 0.0\n",
    "for idx in query_action_idx_list:\n",
    "    print(\"Query index : \", idx)\n",
    "    query_fv = query_action_fvs[idx]\n",
    "    idx_rankings = l2_similarity(query_fv, action_fvs)\n",
    "    label_rankings = [action_labels[idx] for idx in idx_rankings]\n",
    "    path_rankings = [action_video_paths[idx] for idx in idx_rankings]\n",
    "    ap = calc_ap(int(query_action_label), label_rankings)\n",
    "    print(\"AP : \", ap)\n",
    "    print(label_rankings[:10])\n",
    "    print(path_rankings[:10])\n",
    "    print()\n",
    "    mAP += ap\n",
    "    if idx == 0:\n",
    "        break\n",
    "print(\"mAP : \", mAP / len(query_action_idx_list))"
   ]
  },
  {
   "cell_type": "code",
   "execution_count": 157,
   "metadata": {},
   "outputs": [
    {
     "data": {
      "text/plain": [
       "<BarContainer object of 34 artists>"
      ]
     },
     "execution_count": 157,
     "metadata": {},
     "output_type": "execute_result"
    },
    {
     "data": {
      "image/png": "[encoded data removed]",
      "text/plain": [
       "<Figure size 1200x400 with 1 Axes>"
      ]
     },
     "metadata": {
      "needs_background": "light"
     },
     "output_type": "display_data"
    }
   ],
   "source": [
    "x = [i for i in range(0, len(label_rankings), 100)]\n",
    "y = []\n",
    "for i in x:\n",
    "    cnt = 0\n",
    "    for l in label_rankings[i:i+100]:\n",
    "        if l == 1:\n",
    "            cnt += 1\n",
    "    y.append(cnt)\n",
    "\n",
    "plt.figure(figsize=(24, 8), dpi=50)\n",
    "plt.bar([str(i) for i in x], y, width=0.5)"
   ]
  },
  {
   "cell_type": "code",
   "execution_count": 148,
   "metadata": {},
   "outputs": [
    {
     "name": "stdout",
     "output_type": "stream",
     "text": [
      "Query index :  28\n",
      "AP :  0.3735107624218803\n",
      "[8, 0, 8, 8, 0, 8, 8, 0, 8, 0]\n",
      "['/net/per610a/export/das18a/satoh-lab/share/datasets/eastenders/video_detected/shot128_325_id_1369654.mp4', '/net/per610a/export/das18a/satoh-lab/share/datasets/eastenders/video_detected/shot55_1570_id_624798.mp4', '/net/per610a/export/das18a/satoh-lab/share/datasets/eastenders/video_detected/shot127_37_id_1357592.mp4', '/net/per610a/export/das18a/satoh-lab/share/datasets/eastenders/video_detected/shot30_1552_id_325544.mp4', '/net/per610a/export/das18a/satoh-lab/share/datasets/eastenders/video_detected/shot54_869_id_609871.mp4', '/net/per610a/export/das18a/satoh-lab/share/datasets/eastenders/video_detected/shot89_860_id_995856.mp4', '/net/per610a/export/das18a/satoh-lab/share/datasets/eastenders/video_detected/shot26_22_id_273266.mp4', '/net/per610a/export/das18a/satoh-lab/share/datasets/eastenders/video_detected/shot1_574_id_14623.mp4', '/net/per610a/export/das18a/satoh-lab/share/datasets/eastenders/video_detected/shot134_1772_id_1462952.mp4', '/net/per610a/export/das18a/satoh-lab/share/datasets/eastenders/video_detected/shot55_2089_id_627929.mp4']\n",
      "\n",
      "Query index :  29\n",
      "AP :  0.49960672546353957\n",
      "[8, 8, 8, 0, 8, 8, 0, 8, 8, 8]\n",
      "['/net/per610a/export/das18a/satoh-lab/share/datasets/eastenders/video_detected/shot136_628_id_1476231.mp4', '/net/per610a/export/das18a/satoh-lab/share/datasets/eastenders/video_detected/shot70_339_id_784377.mp4', '/net/per610a/export/das18a/satoh-lab/share/datasets/eastenders/video_detected/shot60_1558_id_681403.mp4', '/net/per610a/export/das18a/satoh-lab/share/datasets/eastenders/video_detected/shot89_654_id_994583.mp4', '/net/per610a/export/das18a/satoh-lab/share/datasets/eastenders/video_detected/shot187_730_id_1982764.mp4', '/net/per610a/export/das18a/satoh-lab/share/datasets/eastenders/video_detected/shot199_580_id_2088558.mp4', '/net/per610a/export/das18a/satoh-lab/share/datasets/eastenders/video_detected/shot37_1290_id_406261.mp4', '/net/per610a/export/das18a/satoh-lab/share/datasets/eastenders/video_detected/shot70_1000_id_788090.mp4', '/net/per610a/export/das18a/satoh-lab/share/datasets/eastenders/video_detected/shot86_1608_id_962070.mp4', '/net/per610a/export/das18a/satoh-lab/share/datasets/eastenders/video_detected/shot24_748_id_257353.mp4']\n",
      "\n",
      "mAP :  0.21827937197135497\n"
     ]
    }
   ],
   "source": [
    "# 人物による映像検索\n",
    "mAP = 0.0\n",
    "for idx in query_person_idx_list:\n",
    "    print(\"Query index : \", idx)\n",
    "    query_fv = query_person_fvs[idx]\n",
    "    idx_rankings = cosine_similarity(query_fv, person_fvs)\n",
    "    label_rankings = [person_labels[idx] for idx in idx_rankings]\n",
    "    path_rankings = [person_video_paths[idx] for idx in idx_rankings]\n",
    "    ap = calc_ap(int(query_person_label), label_rankings)\n",
    "    print(\"AP : \", ap)\n",
    "    print(label_rankings[:10])\n",
    "    print(path_rankings[:10])\n",
    "    print()\n",
    "    mAP += ap\n",
    "    if idx == 29:\n",
    "        break\n",
    "print(\"mAP : \", mAP / len(query_person_idx_list))"
   ]
  },
  {
   "cell_type": "code",
   "execution_count": 151,
   "metadata": {},
   "outputs": [
    {
     "data": {
      "text/plain": [
       "<BarContainer object of 98 artists>"
      ]
     },
     "execution_count": 151,
     "metadata": {},
     "output_type": "execute_result"
    },
    {
     "data": {
      "image/png": "[encoded data removed]",
      "text/plain": [
       "<Figure size 1200x400 with 1 Axes>"
      ]
     },
     "metadata": {
      "needs_background": "light"
     },
     "output_type": "display_data"
    }
   ],
   "source": [
    "x = [i for i in range(0, len(label_rankings), 100)]\n",
    "y = []\n",
    "for i in x:\n",
    "    cnt = 0\n",
    "    for l in label_rankings[i:i+100]:\n",
    "        if l == 8:\n",
    "            cnt += 1\n",
    "    y.append(cnt)\n",
    "\n",
    "plt.figure(figsize=(24, 8), dpi=50)\n",
    "plt.bar([str(i) for i in x], y, width=0.5)"
   ]
  },
  {
   "cell_type": "code",
   "execution_count": 152,
   "metadata": {},
   "outputs": [
    {
     "name": "stdout",
     "output_type": "stream",
     "text": [
      "Person Index : 28, Action Index  : 0, AP : 0.05765501905130097\n",
      "[99, 99, 99, 99, 99, 99, 99, 99, 99, 99]\n",
      "['/net/per610a/export/das18a/satoh-lab/share/datasets/eastenders/video_detected/shot164_1222_id_1755370.mp4', '/net/per610a/export/das18a/satoh-lab/share/datasets/eastenders/video_detected/shot155_736_id_1655700.mp4', '/net/per610a/export/das18a/satoh-lab/share/datasets/eastenders/video_detected/shot187_432_id_1981278.mp4', '/net/per610a/export/das18a/satoh-lab/share/datasets/eastenders/video_detected/shot72_1498_id_811354.mp4', '/net/per610a/export/das18a/satoh-lab/share/datasets/eastenders/video_detected/shot74_562_id_837013.mp4', '/net/per610a/export/das18a/satoh-lab/share/datasets/eastenders/video_detected/shot109_1426_id_1182236.mp4', '/net/per610a/export/das18a/satoh-lab/share/datasets/eastenders/video_detected/shot169_1390_id_1808241.mp4', '/net/per610a/export/das18a/satoh-lab/share/datasets/eastenders/video_detected/shot190_381_id_2010346.mp4', '/net/per610a/export/das18a/satoh-lab/share/datasets/eastenders/video_detected/shot204_507_id_2144801.mp4', '/net/per610a/export/das18a/satoh-lab/share/datasets/eastenders/video_detected/shot153_626_id_1630004.mp4']\n",
      "\n",
      "Person Index : 28, Action Index  : 1, AP : 0.060514199858256484\n",
      "[99, 99, 99, 99, 99, 99, 99, 99, 1, 99]\n",
      "['/net/per610a/export/das18a/satoh-lab/share/datasets/eastenders/video_detected/shot127_21_id_1357473.mp4', '/net/per610a/export/das18a/satoh-lab/share/datasets/eastenders/video_detected/shot221_1705_id_2322034.mp4', '/net/per610a/export/das18a/satoh-lab/share/datasets/eastenders/video_detected/shot35_1514_id_383002.mp4', '/net/per610a/export/das18a/satoh-lab/share/datasets/eastenders/video_detected/shot138_1431_id_1496965.mp4', '/net/per610a/export/das18a/satoh-lab/share/datasets/eastenders/video_detected/shot177_1803_id_1880460.mp4', '/net/per610a/export/das18a/satoh-lab/share/datasets/eastenders/video_detected/shot176_1714_id_1865725.mp4', '/net/per610a/export/das18a/satoh-lab/share/datasets/eastenders/video_detected/shot37_223_id_399448.mp4', '/net/per610a/export/das18a/satoh-lab/share/datasets/eastenders/video_detected/shot143_1356_id_1546093.mp4', '/net/per610a/export/das18a/satoh-lab/share/datasets/eastenders/video_detected/shot86_1608_id_962069.mp4', '/net/per610a/export/das18a/satoh-lab/share/datasets/eastenders/video_detected/shot78_139_id_876582.mp4']\n",
      "\n",
      "Person Index : 28, Action Index  : 2, AP : 0.05979940912436862\n",
      "[99, 99, 99, 99, 99, 99, 99, 99, 99, 99]\n",
      "['/net/per610a/export/das18a/satoh-lab/share/datasets/eastenders/video_detected/shot105_1969_id_1153747.mp4', '/net/per610a/export/das18a/satoh-lab/share/datasets/eastenders/video_detected/shot88_1541_id_984464.mp4', '/net/per610a/export/das18a/satoh-lab/share/datasets/eastenders/video_detected/shot216_847_id_2261961.mp4', '/net/per610a/export/das18a/satoh-lab/share/datasets/eastenders/video_detected/shot71_1058_id_798179.mp4', '/net/per610a/export/das18a/satoh-lab/share/datasets/eastenders/video_detected/shot129_462_id_1380903.mp4', '/net/per610a/export/das18a/satoh-lab/share/datasets/eastenders/video_detected/shot37_1290_id_406261.mp4', '/net/per610a/export/das18a/satoh-lab/share/datasets/eastenders/video_detected/shot46_1552_id_522094.mp4', '/net/per610a/export/das18a/satoh-lab/share/datasets/eastenders/video_detected/shot24_1307_id_259562.mp4', '/net/per610a/export/das18a/satoh-lab/share/datasets/eastenders/video_detected/shot53_512_id_596606.mp4', '/net/per610a/export/das18a/satoh-lab/share/datasets/eastenders/video_detected/shot206_530_id_2166357.mp4']\n",
      "\n",
      "Person Index : 28, Action Index  : 3, AP : 0.06216956032809698\n",
      "[99, 99, 99, 99, 99, 99, 99, 99, 99, 99]\n",
      "['/net/per610a/export/das18a/satoh-lab/share/datasets/eastenders/video_detected/shot196_1333_id_2072211.mp4', '/net/per610a/export/das18a/satoh-lab/share/datasets/eastenders/video_detected/shot127_259_id_1358698.mp4', '/net/per610a/export/das18a/satoh-lab/share/datasets/eastenders/video_detected/shot175_53_id_1846074.mp4', '/net/per610a/export/das18a/satoh-lab/share/datasets/eastenders/video_detected/shot63_1218_id_711627.mp4', '/net/per610a/export/das18a/satoh-lab/share/datasets/eastenders/video_detected/shot128_878_id_1372301.mp4', '/net/per610a/export/das18a/satoh-lab/share/datasets/eastenders/video_detected/shot89_947_id_996182.mp4', '/net/per610a/export/das18a/satoh-lab/share/datasets/eastenders/video_detected/shot29_1455_id_315075.mp4', '/net/per610a/export/das18a/satoh-lab/share/datasets/eastenders/video_detected/shot74_2022_id_844640.mp4', '/net/per610a/export/das18a/satoh-lab/share/datasets/eastenders/video_detected/shot145_471_id_1560203.mp4', '/net/per610a/export/das18a/satoh-lab/share/datasets/eastenders/video_detected/shot85_995_id_950269.mp4']\n",
      "\n",
      "Person Index : 29, Action Index  : 0, AP : 0.08089908268667634\n",
      "[99, 99, 99, 99, 99, 99, 99, 1, 99, 99]\n",
      "['/net/per610a/export/das18a/satoh-lab/share/datasets/eastenders/video_detected/shot155_838_id_1656133.mp4', '/net/per610a/export/das18a/satoh-lab/share/datasets/eastenders/video_detected/shot25_279_id_265410.mp4', '/net/per610a/export/das18a/satoh-lab/share/datasets/eastenders/video_detected/shot74_562_id_837013.mp4', '/net/per610a/export/das18a/satoh-lab/share/datasets/eastenders/video_detected/shot109_1426_id_1182236.mp4', '/net/per610a/export/das18a/satoh-lab/share/datasets/eastenders/video_detected/shot169_1390_id_1808241.mp4', '/net/per610a/export/das18a/satoh-lab/share/datasets/eastenders/video_detected/shot190_381_id_2010346.mp4', '/net/per610a/export/das18a/satoh-lab/share/datasets/eastenders/video_detected/shot184_917_id_1943087.mp4', '/net/per610a/export/das18a/satoh-lab/share/datasets/eastenders/video_detected/shot37_905_id_403897.mp4', '/net/per610a/export/das18a/satoh-lab/share/datasets/eastenders/video_detected/shot141_890_id_1519635.mp4', '/net/per610a/export/das18a/satoh-lab/share/datasets/eastenders/video_detected/shot27_1129_id_289464.mp4']\n",
      "\n",
      "mAP :  0.020064829440543712\n"
     ]
    }
   ],
   "source": [
    "# 人物検索 => 動作検索\n",
    "mAP = 0.0\n",
    "for person_idx in query_person_idx_list:\n",
    "    person_query_fv = query_person_fvs[person_idx]\n",
    "    # 人物の検索\n",
    "    person_idx_rankings = cosine_similarity(person_query_fv, person_fvs)\n",
    "    target_action_fvs = np.array([gallery_action_fvs[person_action_idxes[i]] for i in person_idx_rankings[:len(action_fvs)]])\n",
    "    target_action_labels = [person_action_labels[i] for i in person_idx_rankings[:len(action_fvs)]]\n",
    "    target_action_videos = [person_video_paths[i] for i in person_idx_rankings[:len(action_fvs)]]\n",
    "    \n",
    "    for action_idx in query_action_idx_list:\n",
    "        action_query_fv = query_action_fvs[action_idx]\n",
    "        # 動作検索\n",
    "        action_idx_rankings = l2_similarity(action_query_fv, target_action_fvs)\n",
    "        action_label_rankings = [target_action_labels[i] for i in action_idx_rankings]\n",
    "        action_path_rankings = [target_action_videos[idx] for idx in action_idx_rankings]\n",
    "        ap = calc_ap(int(query_action_label), action_label_rankings)\n",
    "        print(\"Person Index : {}, Action Index  : {}, AP : {}\".format(person_idx, action_idx, ap))\n",
    "        print(action_label_rankings[:10])\n",
    "        print(action_path_rankings[:10])\n",
    "        print()\n",
    "        mAP += ap\n",
    "        \n",
    "        if person_idx == 29 and action_idx == 0:\n",
    "            break\n",
    "    if person_idx == 29 and action_idx == 0:\n",
    "        break\n",
    "        \n",
    "print(\"mAP : \", mAP / (len(query_person_idx_list) * len(query_action_idx_list)))"
   ]
  },
  {
   "cell_type": "code",
   "execution_count": 154,
   "metadata": {},
   "outputs": [
    {
     "data": {
      "text/plain": [
       "<BarContainer object of 34 artists>"
      ]
     },
     "execution_count": 154,
     "metadata": {},
     "output_type": "execute_result"
    },
    {
     "data": {
      "image/png": "[encoded data removed]",
      "text/plain": [
       "<Figure size 1200x400 with 1 Axes>"
      ]
     },
     "metadata": {
      "needs_background": "light"
     },
     "output_type": "display_data"
    }
   ],
   "source": [
    "x = [i for i in range(0, len(action_label_rankings), 100)]\n",
    "y = []\n",
    "for i in x:\n",
    "    cnt = 0\n",
    "    for l in action_label_rankings[i:i+100]:\n",
    "        if l == 1:\n",
    "            cnt += 1\n",
    "    y.append(cnt)\n",
    "\n",
    "plt.figure(figsize=(24, 8), dpi=50)\n",
    "plt.bar([str(i) for i in x], y, width=0.5)"
   ]
  },
  {
   "cell_type": "code",
   "execution_count": 124,
   "metadata": {},
   "outputs": [],
   "source": [
    "x = [i for i in range(0, 3400, 100)]"
   ]
  },
  {
   "cell_type": "code",
   "execution_count": 128,
   "metadata": {},
   "outputs": [],
   "source": [
    "y = []\n",
    "for i in x:\n",
    "    cnt = 0\n",
    "    for l in action_label_rankings[i:i+100]:\n",
    "        if l == 1:\n",
    "            cnt += 1\n",
    "    y.append(cnt)"
   ]
  },
  {
   "cell_type": "code",
   "execution_count": 130,
   "metadata": {},
   "outputs": [],
   "source": [
    "import matplotlib.pyplot as plt"
   ]
  },
  {
   "cell_type": "code",
   "execution_count": 144,
   "metadata": {},
   "outputs": [
    {
     "data": {
      "text/plain": [
       "<BarContainer object of 34 artists>"
      ]
     },
     "execution_count": 144,
     "metadata": {},
     "output_type": "execute_result"
    },
    {
     "data": {
      "image/png": "[encoded data removed]",
      "text/plain": [
       "<Figure size 800x400 with 1 Axes>"
      ]
     },
     "metadata": {
      "needs_background": "light"
     },
     "output_type": "display_data"
    }
   ],
   "source": [
    "plt.figure(figsize=(16, 8), dpi=50)\n",
    "plt.bar([str(i) for i in x], y, width=0.5)"
   ]
  },
  {
   "cell_type": "code",
   "execution_count": 138,
   "metadata": {},
   "outputs": [
    {
     "data": {
      "text/plain": [
       "[<matplotlib.lines.Line2D at 0x7ff0bce11a20>]"
      ]
     },
     "execution_count": 138,
     "metadata": {},
     "output_type": "execute_result"
    },
    {
     "data": {
      "image/png": "[encoded data removed]",
      "text/plain": [
       "<Figure size 432x288 with 1 Axes>"
      ]
     },
     "metadata": {
      "needs_background": "light"
     },
     "output_type": "display_data"
    }
   ],
   "source": [
    "plt.plot(x, y, marker=\"o\")"
   ]
  },
  {
   "cell_type": "code",
   "execution_count": null,
   "metadata": {},
   "outputs": [],
   "source": []
  }
 ],
 "metadata": {
  "kernelspec": {
   "display_name": "Python 3",
   "language": "python",
   "name": "python3"
  },
  "language_info": {
   "codemirror_mode": {
    "name": "ipython",
    "version": 3
   },
   "file_extension": ".py",
   "mimetype": "text/x-python",
   "name": "python",
   "nbconvert_exporter": "python",
   "pygments_lexer": "ipython3",
   "version": "3.7.3"
  }
 },
 "nbformat": 4,
 "nbformat_minor": 2
}
