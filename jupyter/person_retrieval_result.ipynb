{
 "cells": [
  {
   "cell_type": "code",
   "execution_count": 2,
   "metadata": {},
   "outputs": [],
   "source": [
    "import csv\n",
    "import numpy as np"
   ]
  },
  {
   "cell_type": "code",
   "execution_count": 12,
   "metadata": {},
   "outputs": [],
   "source": [
    "action_labels_csv = \"/net/per610a/export/das18a/satoh-lab/share/datasets/eastenders/trecvid_2019/query/action_labels.csv\"\n",
    "person_labels_csv = \"/net/per610a/export/das18a/satoh-lab/share/datasets/eastenders/trecvid_2019/query/person_labels.csv\"\n",
    "action_rankins_npy = \"/net/per610a/export/das18a/satoh-lab/share/datasets/eastenders/trecvid_2019/action_rankings.npy\"\n",
    "person_rankins_npy = \"/net/per610a/export/das18a/satoh-lab/share/datasets/eastenders/trecvid_2019/person_rankings.npy\"\n",
    "gallery_features_csv = \"/net/per610a/export/das18a/satoh-lab/share/datasets/eastenders/trecvid_2019/gallery/features.csv\"\n",
    "query_features_csv = \"/net/per610a/export/das18a/satoh-lab/share/datasets/eastenders/trecvid_2019/query/features.csv\"\n",
    "query_person_features_csv = \"/net/per610a/export/das18a/satoh-lab/share/datasets/eastenders/trecvid_2019/query/person_features.csv\""
   ]
  },
  {
   "cell_type": "code",
   "execution_count": 17,
   "metadata": {},
   "outputs": [],
   "source": [
    "with open(query_person_features_csv, \"r\") as f:\n",
    "    reader = csv.reader(f, delimiter=\" \")\n",
    "    query_person_dict = {int(r[1]): r[0] for r in reader}"
   ]
  },
  {
   "cell_type": "code",
   "execution_count": 18,
   "metadata": {},
   "outputs": [],
   "source": [
    "with open(query_features_csv, \"r\") as f:\n",
    "    reader = csv.reader(f, delimiter=\" \")\n",
    "    query_dict = {int(r[0]): [r[5], query_person_dict[int(r[4])]] for r in reader}"
   ]
  },
  {
   "cell_type": "code",
   "execution_count": 22,
   "metadata": {},
   "outputs": [],
   "source": [
    "with open(gallery_features_csv, \"r\") as f:\n",
    "    reader = csv.reader(f, delimiter=\" \")\n",
    "    gallery_dict = {int(r[0]): r[5] for r in reader}"
   ]
  },
  {
   "cell_type": "code",
   "execution_count": 24,
   "metadata": {},
   "outputs": [],
   "source": [
    "person_rankings = np.load(person_rankins_npy)\n",
    "action_rankings = np.load(action_rankins_npy)"
   ]
  },
  {
   "cell_type": "code",
   "execution_count": 32,
   "metadata": {},
   "outputs": [
    {
     "name": "stdout",
     "output_type": "stream",
     "text": [
      "Query\n",
      "Image:  /net/per610a/export/das18a/satoh-lab/share/datasets/eastenders/trecvid_2019/topics/tv19.person.examples.images/max.1.trimmed.png\n",
      "Video:  /net/per610a/export/das18a/satoh-lab/share/datasets/eastenders/trecvid_2019/detected_query_videos/clip1_011_id_8.mp4 \n",
      "\n",
      "Gallery 1\n",
      "/net/per610a/export/das18a/satoh-lab/share/datasets/eastenders/video_detected/shot128_325_id_1369654.mp4\n",
      "Gallery 2\n",
      "/net/per610a/export/das18a/satoh-lab/share/datasets/eastenders/video_detected/shot128_325_id_1369654.mp4\n",
      "Gallery 3\n",
      "/net/per610a/export/das18a/satoh-lab/share/datasets/eastenders/video_detected/shot128_325_id_1369654.mp4\n",
      "Gallery 4\n",
      "/net/per610a/export/das18a/satoh-lab/share/datasets/eastenders/video_detected/shot118_942_id_1271836.mp4\n",
      "Gallery 5\n",
      "/net/per610a/export/das18a/satoh-lab/share/datasets/eastenders/video_detected/shot118_942_id_1271836.mp4\n",
      "Gallery 6\n",
      "/net/per610a/export/das18a/satoh-lab/share/datasets/eastenders/video_detected/shot13_709_id_157093.mp4\n",
      "Gallery 7\n",
      "/net/per610a/export/das18a/satoh-lab/share/datasets/eastenders/video_detected/shot118_942_id_1271836.mp4\n",
      "Gallery 8\n",
      "/net/per610a/export/das18a/satoh-lab/share/datasets/eastenders/video_detected/shot50_15_id_562891.mp4\n",
      "Gallery 9\n",
      "/net/per610a/export/das18a/satoh-lab/share/datasets/eastenders/video_detected/shot29_478_id_309434.mp4\n",
      "Gallery 10\n",
      "/net/per610a/export/das18a/satoh-lab/share/datasets/eastenders/video_detected/shot214_508_id_2244189.mp4\n",
      "Gallery 11\n",
      "/net/per610a/export/das18a/satoh-lab/share/datasets/eastenders/video_detected/shot120_491_id_1286804.mp4\n",
      "Gallery 12\n",
      "/net/per610a/export/das18a/satoh-lab/share/datasets/eastenders/video_detected/shot29_478_id_309434.mp4\n",
      "Gallery 13\n",
      "/net/per610a/export/das18a/satoh-lab/share/datasets/eastenders/video_detected/shot183_539_id_1929562.mp4\n",
      "Gallery 14\n",
      "/net/per610a/export/das18a/satoh-lab/share/datasets/eastenders/video_detected/shot183_539_id_1929562.mp4\n",
      "Gallery 15\n",
      "/net/per610a/export/das18a/satoh-lab/share/datasets/eastenders/video_detected/shot72_1322_id_809606.mp4\n",
      "Gallery 16\n",
      "/net/per610a/export/das18a/satoh-lab/share/datasets/eastenders/video_detected/shot55_1570_id_624798.mp4\n",
      "Gallery 17\n",
      "/net/per610a/export/das18a/satoh-lab/share/datasets/eastenders/video_detected/shot139_100_id_1505233.mp4\n",
      "Gallery 18\n",
      "/net/per610a/export/das18a/satoh-lab/share/datasets/eastenders/video_detected/shot55_1570_id_624798.mp4\n",
      "Gallery 19\n",
      "/net/per610a/export/das18a/satoh-lab/share/datasets/eastenders/video_detected/shot54_871_id_609895.mp4\n",
      "Gallery 20\n",
      "/net/per610a/export/das18a/satoh-lab/share/datasets/eastenders/video_detected/shot55_1570_id_624798.mp4\n"
     ]
    }
   ],
   "source": [
    "\"\"\"人物検索の結果\"\"\"\n",
    "person_ranking = person_rankings[0]\n",
    "\n",
    "# クエリの情報\n",
    "print(\"Query\")\n",
    "print(\"Image: \", query_dict[person_ranking[0]][1])\n",
    "print(\"Video: \", query_dict[person_ranking[0]][0], \"\\n\")\n",
    "\n",
    "#ギャラリの情報\n",
    "for i, r in enumerate(person_ranking[1:21]):\n",
    "    print(\"Gallery\", i + 1)\n",
    "    print(gallery_dict[r])"
   ]
  },
  {
   "cell_type": "code",
   "execution_count": 31,
   "metadata": {},
   "outputs": [
    {
     "name": "stdout",
     "output_type": "stream",
     "text": [
      "Query\n",
      "Image:  /net/per610a/export/das18a/satoh-lab/share/datasets/eastenders/trecvid_2019/topics/tv19.person.examples.images/max.1.trimmed.png\n",
      "Video:  /net/per610a/export/das18a/satoh-lab/share/datasets/eastenders/trecvid_2019/detected_query_videos/clip1_011_id_8.mp4 \n",
      "\n",
      "Gallery 1\n",
      "/net/per610a/export/das18a/satoh-lab/share/datasets/eastenders/video_detected/shot1_244_id_12644.mp4\n",
      "Gallery 2\n",
      "/net/per610a/export/das18a/satoh-lab/share/datasets/eastenders/video_detected/shot48_1066_id_543560.mp4\n",
      "Gallery 3\n",
      "/net/per610a/export/das18a/satoh-lab/share/datasets/eastenders/video_detected/shot44_1735_id_497069.mp4\n",
      "Gallery 4\n",
      "/net/per610a/export/das18a/satoh-lab/share/datasets/eastenders/video_detected/shot72_1501_id_811375.mp4\n",
      "Gallery 5\n",
      "/net/per610a/export/das18a/satoh-lab/share/datasets/eastenders/video_detected/shot135_695_id_1467733.mp4\n",
      "Gallery 6\n",
      "/net/per610a/export/das18a/satoh-lab/share/datasets/eastenders/video_detected/shot135_695_id_1467733.mp4\n",
      "Gallery 7\n",
      "/net/per610a/export/das18a/satoh-lab/share/datasets/eastenders/video_detected/shot135_695_id_1467733.mp4\n",
      "Gallery 8\n",
      "/net/per610a/export/das18a/satoh-lab/share/datasets/eastenders/video_detected/shot126_206_id_1340116.mp4\n",
      "Gallery 9\n",
      "/net/per610a/export/das18a/satoh-lab/share/datasets/eastenders/video_detected/shot74_562_id_837013.mp4\n",
      "Gallery 10\n",
      "/net/per610a/export/das18a/satoh-lab/share/datasets/eastenders/video_detected/shot74_562_id_837013.mp4\n",
      "Gallery 11\n",
      "/net/per610a/export/das18a/satoh-lab/share/datasets/eastenders/video_detected/shot101_1726_id_1119380.mp4\n",
      "Gallery 12\n",
      "/net/per610a/export/das18a/satoh-lab/share/datasets/eastenders/video_detected/shot158_120_id_1677827.mp4\n",
      "Gallery 13\n",
      "/net/per610a/export/das18a/satoh-lab/share/datasets/eastenders/video_detected/shot204_507_id_2144801.mp4\n",
      "Gallery 14\n",
      "/net/per610a/export/das18a/satoh-lab/share/datasets/eastenders/video_detected/shot102_642_id_1124753.mp4\n",
      "Gallery 15\n",
      "/net/per610a/export/das18a/satoh-lab/share/datasets/eastenders/video_detected/shot102_642_id_1124753.mp4\n",
      "Gallery 16\n",
      "/net/per610a/export/das18a/satoh-lab/share/datasets/eastenders/video_detected/shot102_642_id_1124753.mp4\n",
      "Gallery 17\n",
      "/net/per610a/export/das18a/satoh-lab/share/datasets/eastenders/video_detected/shot102_642_id_1124753.mp4\n",
      "Gallery 18\n",
      "/net/per610a/export/das18a/satoh-lab/share/datasets/eastenders/video_detected/shot102_642_id_1124753.mp4\n",
      "Gallery 19\n",
      "/net/per610a/export/das18a/satoh-lab/share/datasets/eastenders/video_detected/shot102_642_id_1124753.mp4\n",
      "Gallery 20\n",
      "/net/per610a/export/das18a/satoh-lab/share/datasets/eastenders/video_detected/shot65_1305_id_734229.mp4\n"
     ]
    }
   ],
   "source": [
    "\"\"\"動作検索の結果\"\"\"\n",
    "action_ranking = action_rankings[0]\n",
    "\n",
    "# クエリの情報\n",
    "print(\"Query\")\n",
    "print(\"Image: \", query_dict[action_ranking[0]][1])\n",
    "print(\"Video: \", query_dict[action_ranking[0]][0], \"\\n\")\n",
    "\n",
    "#ギャラリの情報\n",
    "for i, r in enumerate(action_ranking[1:21]):\n",
    "    print(\"Gallery\", i + 1)\n",
    "    print(gallery_dict[r])"
   ]
  },
  {
   "cell_type": "code",
   "execution_count": null,
   "metadata": {},
   "outputs": [],
   "source": []
  }
 ],
 "metadata": {
  "kernelspec": {
   "display_name": "Python 3",
   "language": "python",
   "name": "python3"
  },
  "language_info": {
   "codemirror_mode": {
    "name": "ipython",
    "version": 3
   },
   "file_extension": ".py",
   "mimetype": "text/x-python",
   "name": "python",
   "nbconvert_exporter": "python",
   "pygments_lexer": "ipython3",
   "version": "3.7.3"
  }
 },
 "nbformat": 4,
 "nbformat_minor": 2
}
