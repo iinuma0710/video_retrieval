{
 "cells": [
  {
   "cell_type": "code",
   "execution_count": 34,
   "metadata": {},
   "outputs": [],
   "source": [
    "import os\n",
    "import csv\n",
    "import random\n",
    "import numpy as np"
   ]
  },
  {
   "cell_type": "code",
   "execution_count": 27,
   "metadata": {},
   "outputs": [],
   "source": [
    "data_dir = \"/net/per610a/export/das18a/satoh-lab/share/datasets/eastenders/trecvid_2019/\"\n",
    "results_npy = os.path.join(data_dir, \"results.npy\")\n",
    "results = np.load(results_npy)"
   ]
  },
  {
   "cell_type": "code",
   "execution_count": 28,
   "metadata": {},
   "outputs": [
    {
     "data": {
      "text/plain": [
       "array([ 0,  1,  2,  3,  0,  1,  2,  3,  0,  1,  2,  3,  0,  1,  2,  3,  4,\n",
       "        5,  6,  7,  4,  5,  6,  7,  8,  9, 10, 11, 12,  8,  9, 10, 11, 12,\n",
       "        8,  9, 10, 11, 12, 16, 17, 18, 19, 20, 21, 18, 19, 20, 21, 22, 22,\n",
       "       23, 23, 24, 25, 26, 27, 28, 29, 30, 31])"
      ]
     },
     "execution_count": 28,
     "metadata": {},
     "output_type": "execute_result"
    }
   ],
   "source": [
    "results[:, 0]"
   ]
  },
  {
   "cell_type": "code",
   "execution_count": 56,
   "metadata": {},
   "outputs": [],
   "source": [
    "with open(os.path.join(data_dir, \"query/features.csv\"), \"r\") as f:\n",
    "    reader = csv.reader(f, delimiter=\" \")\n",
    "    query_dict = {int(r[3]): [r[5], int(r[6])] for r in reader}"
   ]
  },
  {
   "cell_type": "code",
   "execution_count": 57,
   "metadata": {},
   "outputs": [],
   "source": [
    "with open(os.path.join(data_dir, \"gallery/features.csv\"), \"r\") as f:\n",
    "    reader = csv.reader(f, delimiter=\" \")\n",
    "    gallery_dict = {int(r[3]): [r[5], int(r[6]), int(r[7])] for r in reader}"
   ]
  },
  {
   "cell_type": "code",
   "execution_count": 59,
   "metadata": {},
   "outputs": [
    {
     "name": "stdout",
     "output_type": "stream",
     "text": [
      "query idx : 0\n",
      "query : ['/net/per610a/export/das18a/satoh-lab/share/datasets/eastenders/trecvid_2019/detected_query_videos/clip1_011_id_8.mp4', 1]\n",
      "['/net/per610a/export/das18a/satoh-lab/share/datasets/eastenders/video_detected/shot164_1222_id_1755370.mp4', 99, 6]\n",
      "['/net/per610a/export/das18a/satoh-lab/share/datasets/eastenders/video_detected/shot95_79_id_1043179.mp4', 99, 8]\n",
      "['/net/per610a/export/das18a/satoh-lab/share/datasets/eastenders/video_detected/shot126_1918_id_1351271.mp4', 99, 13]\n",
      "['/net/per610a/export/das18a/satoh-lab/share/datasets/eastenders/video_detected/shot155_838_id_1656133.mp4', 99, 8]\n",
      "['/net/per610a/export/das18a/satoh-lab/share/datasets/eastenders/video_detected/shot155_736_id_1655700.mp4', 99, 8]\n",
      "['/net/per610a/export/das18a/satoh-lab/share/datasets/eastenders/video_detected/shot25_279_id_265410.mp4', 99, 5]\n",
      "['/net/per610a/export/das18a/satoh-lab/share/datasets/eastenders/video_detected/shot187_432_id_1981278.mp4', 99, 13]\n",
      "['/net/per610a/export/das18a/satoh-lab/share/datasets/eastenders/video_detected/shot72_1498_id_811354.mp4', 99, 8]\n",
      "['/net/per610a/export/das18a/satoh-lab/share/datasets/eastenders/video_detected/shot74_562_id_837013.mp4', 99, 1]\n",
      "['/net/per610a/export/das18a/satoh-lab/share/datasets/eastenders/video_detected/shot74_467_id_836622.mp4', 1, 8]\n",
      "['/net/per610a/export/das18a/satoh-lab/share/datasets/eastenders/video_detected/shot109_1426_id_1182236.mp4', 99, 8]\n",
      "['/net/per610a/export/das18a/satoh-lab/share/datasets/eastenders/video_detected/shot184_1212_id_1945262.mp4', 99, 8]\n",
      "['/net/per610a/export/das18a/satoh-lab/share/datasets/eastenders/video_detected/shot105_111_id_1144679.mp4', 99, 9]\n",
      "['/net/per610a/export/das18a/satoh-lab/share/datasets/eastenders/video_detected/shot169_1390_id_1808241.mp4', 99, 8]\n",
      "['/net/per610a/export/das18a/satoh-lab/share/datasets/eastenders/video_detected/shot190_381_id_2010346.mp4', 99, 8]\n",
      "['/net/per610a/export/das18a/satoh-lab/share/datasets/eastenders/video_detected/shot204_507_id_2144801.mp4', 99, 8]\n",
      "['/net/per610a/export/das18a/satoh-lab/share/datasets/eastenders/video_detected/shot41_1151_id_454924.mp4', 99, 1]\n",
      "['/net/per610a/export/das18a/satoh-lab/share/datasets/eastenders/video_detected/shot159_741_id_1691426.mp4', 99, 13]\n",
      "['/net/per610a/export/das18a/satoh-lab/share/datasets/eastenders/video_detected/shot153_626_id_1630004.mp4', 99, 13]\n",
      "['/net/per610a/export/das18a/satoh-lab/share/datasets/eastenders/video_detected/shot184_917_id_1943087.mp4', 99, 7]\n",
      "['/net/per610a/export/das18a/satoh-lab/share/datasets/eastenders/video_detected/shot43_602_id_478780.mp4', 4, 1]\n",
      "['/net/per610a/export/das18a/satoh-lab/share/datasets/eastenders/video_detected/shot70_911_id_787660.mp4', 99, 8]\n",
      "['/net/per610a/export/das18a/satoh-lab/share/datasets/eastenders/video_detected/shot37_905_id_403897.mp4', 99, 1]\n",
      "['/net/per610a/export/das18a/satoh-lab/share/datasets/eastenders/video_detected/shot211_1719_id_2226880.mp4', 99, 7]\n",
      "['/net/per610a/export/das18a/satoh-lab/share/datasets/eastenders/video_detected/shot142_794_id_1534038.mp4', 99, 6]\n",
      "['/net/per610a/export/das18a/satoh-lab/share/datasets/eastenders/video_detected/shot141_890_id_1519635.mp4', 99, 8]\n",
      "['/net/per610a/export/das18a/satoh-lab/share/datasets/eastenders/video_detected/shot69_1203_id_777439.mp4', 99, 6]\n",
      "['/net/per610a/export/das18a/satoh-lab/share/datasets/eastenders/video_detected/shot27_1129_id_289464.mp4', 99, 13]\n",
      "['/net/per610a/export/das18a/satoh-lab/share/datasets/eastenders/video_detected/shot155_526_id_1653993.mp4', 99, 8]\n",
      "['/net/per610a/export/das18a/satoh-lab/share/datasets/eastenders/video_detected/shot190_452_id_2010802.mp4', 99, 1]\n",
      "['/net/per610a/export/das18a/satoh-lab/share/datasets/eastenders/video_detected/shot175_1595_id_1855138.mp4', 99, 8]\n",
      "['/net/per610a/export/das18a/satoh-lab/share/datasets/eastenders/video_detected/shot34_1832_id_371918.mp4', 99, 8]\n",
      "['/net/per610a/export/das18a/satoh-lab/share/datasets/eastenders/video_detected/shot65_980_id_732552.mp4', 99, 6]\n",
      "['/net/per610a/export/das18a/satoh-lab/share/datasets/eastenders/video_detected/shot156_554_id_1662692.mp4', 99, 13]\n",
      "['/net/per610a/export/das18a/satoh-lab/share/datasets/eastenders/video_detected/shot27_2104_id_294121.mp4', 99, 13]\n",
      "['/net/per610a/export/das18a/satoh-lab/share/datasets/eastenders/video_detected/shot206_1904_id_2174739.mp4', 99, 8]\n",
      "['/net/per610a/export/das18a/satoh-lab/share/datasets/eastenders/video_detected/shot15_1648_id_177128.mp4', 99, 8]\n",
      "['/net/per610a/export/das18a/satoh-lab/share/datasets/eastenders/video_detected/shot159_471_id_1689910.mp4', 99, 8]\n",
      "['/net/per610a/export/das18a/satoh-lab/share/datasets/eastenders/video_detected/shot200_1290_id_2101577.mp4', 99, 8]\n",
      "['/net/per610a/export/das18a/satoh-lab/share/datasets/eastenders/video_detected/shot133_490_id_1444579.mp4', 99, 9]\n",
      "['/net/per610a/export/das18a/satoh-lab/share/datasets/eastenders/video_detected/shot177_128_id_1869504.mp4', 99, 8]\n",
      "['/net/per610a/export/das18a/satoh-lab/share/datasets/eastenders/video_detected/shot67_1531_id_761136.mp4', 99, 2]\n",
      "['/net/per610a/export/das18a/satoh-lab/share/datasets/eastenders/video_detected/shot218_280_id_2278357.mp4', 99, 8]\n",
      "['/net/per610a/export/das18a/satoh-lab/share/datasets/eastenders/video_detected/shot165_1515_id_1766602.mp4', 99, 10]\n",
      "['/net/per610a/export/das18a/satoh-lab/share/datasets/eastenders/video_detected/shot191_1759_id_2029689.mp4', 99, 8]\n",
      "['/net/per610a/export/das18a/satoh-lab/share/datasets/eastenders/video_detected/shot77_1014_id_870822.mp4', 99, 6]\n",
      "['/net/per610a/export/das18a/satoh-lab/share/datasets/eastenders/video_detected/shot167_12_id_1778845.mp4', 99, 10]\n",
      "['/net/per610a/export/das18a/satoh-lab/share/datasets/eastenders/video_detected/shot38_1197_id_423824.mp4', 99, 1]\n",
      "['/net/per610a/export/das18a/satoh-lab/share/datasets/eastenders/video_detected/shot107_383_id_1159833.mp4', 99, 13]\n",
      "['/net/per610a/export/das18a/satoh-lab/share/datasets/eastenders/video_detected/shot39_1225_id_434840.mp4', 99, 8]\n",
      "['/net/per610a/export/das18a/satoh-lab/share/datasets/eastenders/video_detected/shot171_780_id_1823000.mp4', 99, 5]\n",
      "['/net/per610a/export/das18a/satoh-lab/share/datasets/eastenders/video_detected/shot63_1857_id_715372.mp4', 99, 1]\n",
      "['/net/per610a/export/das18a/satoh-lab/share/datasets/eastenders/video_detected/shot101_1372_id_1117374.mp4', 99, 1]\n",
      "['/net/per610a/export/das18a/satoh-lab/share/datasets/eastenders/video_detected/shot169_1843_id_1810326.mp4', 99, 8]\n",
      "['/net/per610a/export/das18a/satoh-lab/share/datasets/eastenders/video_detected/shot21_1315_id_230651.mp4', 99, 13]\n",
      "['/net/per610a/export/das18a/satoh-lab/share/datasets/eastenders/video_detected/shot179_1641_id_1900934.mp4', 99, 5]\n",
      "['/net/per610a/export/das18a/satoh-lab/share/datasets/eastenders/video_detected/shot138_1175_id_1494276.mp4', 99, 8]\n",
      "['/net/per610a/export/das18a/satoh-lab/share/datasets/eastenders/video_detected/shot65_1882_id_737858.mp4', 99, 8]\n",
      "['/net/per610a/export/das18a/satoh-lab/share/datasets/eastenders/video_detected/shot200_1279_id_2101543.mp4', 99, 8]\n",
      "['/net/per610a/export/das18a/satoh-lab/share/datasets/eastenders/video_detected/shot206_1609_id_2172704.mp4', 99, 3]\n",
      "['/net/per610a/export/das18a/satoh-lab/share/datasets/eastenders/video_detected/shot61_1400_id_690915.mp4', 99, 1]\n",
      "['/net/per610a/export/das18a/satoh-lab/share/datasets/eastenders/video_detected/shot9_1622_id_107847.mp4', 99, 8]\n",
      "['/net/per610a/export/das18a/satoh-lab/share/datasets/eastenders/video_detected/shot37_1478_id_407651.mp4', 99, 8]\n",
      "['/net/per610a/export/das18a/satoh-lab/share/datasets/eastenders/video_detected/shot37_1768_id_409696.mp4', 99, 13]\n",
      "['/net/per610a/export/das18a/satoh-lab/share/datasets/eastenders/video_detected/shot120_1536_id_1291262.mp4', 99, 8]\n",
      "['/net/per610a/export/das18a/satoh-lab/share/datasets/eastenders/video_detected/shot66_292_id_740810.mp4', 1, 8]\n",
      "['/net/per610a/export/das18a/satoh-lab/share/datasets/eastenders/video_detected/shot8_795_id_92474.mp4', 99, 13]\n",
      "['/net/per610a/export/das18a/satoh-lab/share/datasets/eastenders/video_detected/shot1_401_id_13650.mp4', 99, 6]\n",
      "['/net/per610a/export/das18a/satoh-lab/share/datasets/eastenders/video_detected/shot187_483_id_1981507.mp4', 99, 6]\n",
      "['/net/per610a/export/das18a/satoh-lab/share/datasets/eastenders/video_detected/shot31_1252_id_336599.mp4', 99, 8]\n",
      "['/net/per610a/export/das18a/satoh-lab/share/datasets/eastenders/video_detected/shot30_2020_id_327634.mp4', 99, 8]\n",
      "['/net/per610a/export/das18a/satoh-lab/share/datasets/eastenders/video_detected/shot138_1678_id_1499673.mp4', 99, 6]\n",
      "['/net/per610a/export/das18a/satoh-lab/share/datasets/eastenders/video_detected/shot10_1036_id_117286.mp4', 99, 13]\n",
      "['/net/per610a/export/das18a/satoh-lab/share/datasets/eastenders/video_detected/shot221_1625_id_2321765.mp4', 9, 8]\n",
      "['/net/per610a/export/das18a/satoh-lab/share/datasets/eastenders/video_detected/shot30_2020_id_327621.mp4', 99, 8]\n",
      "['/net/per610a/export/das18a/satoh-lab/share/datasets/eastenders/video_detected/shot13_1511_id_161202.mp4', 99, 13]\n",
      "['/net/per610a/export/das18a/satoh-lab/share/datasets/eastenders/video_detected/shot134_347_id_1455002.mp4', 99, 1]\n",
      "['/net/per610a/export/das18a/satoh-lab/share/datasets/eastenders/video_detected/shot221_224_id_2314026.mp4', 99, 6]\n",
      "['/net/per610a/export/das18a/satoh-lab/share/datasets/eastenders/video_detected/shot203_2069_id_2141812.mp4', 99, 6]\n",
      "['/net/per610a/export/das18a/satoh-lab/share/datasets/eastenders/video_detected/shot189_276_id_1999209.mp4', 99, 10]\n",
      "['/net/per610a/export/das18a/satoh-lab/share/datasets/eastenders/video_detected/shot150_446_id_1604976.mp4', 99, 8]\n",
      "['/net/per610a/export/das18a/satoh-lab/share/datasets/eastenders/video_detected/shot162_1732_id_1733713.mp4', 99, 8]\n",
      "['/net/per610a/export/das18a/satoh-lab/share/datasets/eastenders/video_detected/shot126_2225_id_1354270.mp4', 1, 8]\n",
      "['/net/per610a/export/das18a/satoh-lab/share/datasets/eastenders/video_detected/shot186_1546_id_1970358.mp4', 99, 10]\n",
      "['/net/per610a/export/das18a/satoh-lab/share/datasets/eastenders/video_detected/shot170_412_id_1815143.mp4', 99, 8]\n",
      "['/net/per610a/export/das18a/satoh-lab/share/datasets/eastenders/video_detected/shot186_1677_id_1971382.mp4', 99, 8]\n",
      "['/net/per610a/export/das18a/satoh-lab/share/datasets/eastenders/video_detected/shot61_912_id_688922.mp4', 99, 8]\n",
      "['/net/per610a/export/das18a/satoh-lab/share/datasets/eastenders/video_detected/shot66_292_id_740813.mp4', 1, 8]\n",
      "['/net/per610a/export/das18a/satoh-lab/share/datasets/eastenders/video_detected/shot184_1209_id_1945216.mp4', 99, 8]\n",
      "['/net/per610a/export/das18a/satoh-lab/share/datasets/eastenders/video_detected/shot176_524_id_1860037.mp4', 99, 13]\n",
      "['/net/per610a/export/das18a/satoh-lab/share/datasets/eastenders/video_detected/shot34_830_id_364755.mp4', 99, 3]\n",
      "['/net/per610a/export/das18a/satoh-lab/share/datasets/eastenders/video_detected/shot7_198_id_78999.mp4', 99, 13]\n",
      "['/net/per610a/export/das18a/satoh-lab/share/datasets/eastenders/video_detected/shot156_596_id_1662873.mp4', 99, 8]\n",
      "['/net/per610a/export/das18a/satoh-lab/share/datasets/eastenders/video_detected/shot157_348_id_1672044.mp4', 99, 8]\n",
      "['/net/per610a/export/das18a/satoh-lab/share/datasets/eastenders/video_detected/shot51_1030_id_579615.mp4', 99, 8]\n",
      "['/net/per610a/export/das18a/satoh-lab/share/datasets/eastenders/video_detected/shot147_1060_id_1574754.mp4', 99, 13]\n",
      "['/net/per610a/export/das18a/satoh-lab/share/datasets/eastenders/video_detected/shot52_631_id_586646.mp4', 99, 13]\n",
      "['/net/per610a/export/das18a/satoh-lab/share/datasets/eastenders/video_detected/shot66_292_id_740809.mp4', 1, 8]\n",
      "['/net/per610a/export/das18a/satoh-lab/share/datasets/eastenders/video_detected/shot26_356_id_274843.mp4', 99, 6]\n",
      "['/net/per610a/export/das18a/satoh-lab/share/datasets/eastenders/video_detected/shot128_1608_id_1375971.mp4', 99, 10]\n"
     ]
    }
   ],
   "source": [
    "# idx = random.randint(0, 60)\n",
    "idx = 0\n",
    "print(\"query idx :\", idx)\n",
    "print(\"query :\", query_dict[results[idx, 0]])\n",
    "\n",
    "for r in results[idx][1:]:\n",
    "    print(gallery_dict[r])"
   ]
  },
  {
   "cell_type": "code",
   "execution_count": 15,
   "metadata": {},
   "outputs": [
    {
     "name": "stdout",
     "output_type": "stream",
     "text": [
      "['7877', '376626', '223480', '84497', '7876', '/net/per610a/export/das18a/satoh-lab/share/datasets/eastenders/video_detected/shot195_124_id_2054603.mp4', '99', '5']\n",
      "['32660', '376626', '223480', '84497', '32659', '/net/per610a/export/das18a/satoh-lab/share/datasets/eastenders/video_detected/shot195_124_id_2054603.mp4', '99', '5']\n",
      "['58278', '376626', '223480', '84497', '58277', '/net/per610a/export/das18a/satoh-lab/share/datasets/eastenders/video_detected/shot195_124_id_2054603.mp4', '99', '5']\n",
      "['76996', '376626', '223480', '84497', '76995', '/net/per610a/export/das18a/satoh-lab/share/datasets/eastenders/video_detected/shot195_124_id_2054603.mp4', '99', '5']\n",
      "['127610', '376626', '223480', '84497', '127609', '/net/per610a/export/das18a/satoh-lab/share/datasets/eastenders/video_detected/shot195_124_id_2054603.mp4', '99', '6']\n"
     ]
    }
   ],
   "source": [
    "with open(os.path.join(data_dir, \"gallery/features.csv\"), \"r\") as f:\n",
    "    reader = csv.reader(f, delimiter=\" \")\n",
    "    for r in reader:\n",
    "        if int(r[3]) == 84497:\n",
    "            print(r)"
   ]
  },
  {
   "cell_type": "code",
   "execution_count": 26,
   "metadata": {},
   "outputs": [
    {
     "data": {
      "text/plain": [
       "array([     0, 213535,  31350, 165993, 234557,  80850,  24343,  61872,\n",
       "       226869, 139260, 227084,  98547, 149424, 229904, 148135,  84114,\n",
       "       217070, 245618, 190964,  80611,  61568, 136030,  29021,  91481,\n",
       "       239799, 145621, 189399, 248498,  24558,  58876, 171950, 258350,\n",
       "         3355, 248099,  36998,  90474,  19727,  45532, 190951, 106902,\n",
       "       166796, 104784, 226389, 152446, 125811, 194069, 249346, 213769,\n",
       "       135563,  54392,  25868, 192176,  94238, 185714, 235987, 199698,\n",
       "       236809, 101374, 116408,  19070, 195369, 115950, 176636,  25637,\n",
       "       201313, 209362, 182304, 154530, 197737, 149707, 178713, 200577,\n",
       "        35533, 242595, 152856, 178620, 221058, 166902, 108866])"
      ]
     },
     "execution_count": 26,
     "metadata": {},
     "output_type": "execute_result"
    }
   ],
   "source": [
    "r = results[0].tolist()\n",
    "np.array(sorted(set(r), key=r.index))"
   ]
  },
  {
   "cell_type": "code",
   "execution_count": 23,
   "metadata": {},
   "outputs": [
    {
     "data": {
      "text/plain": [
       "array([     0, 213535,  31350, 165993, 234557,  80850,  24343,  61872,\n",
       "       226869, 139260, 227084,  98547, 149424, 229904, 148135,  84114,\n",
       "       217070, 245618, 190964,  80611,  61568, 136030,  29021,  91481,\n",
       "       239799, 145621, 189399, 248498,  24558,  58876, 171950, 258350,\n",
       "         3355, 248099,  36998,  90474,  19727,  45532, 190951, 106902,\n",
       "       166796, 104784, 226389, 152446, 125811, 194069, 249346, 213769,\n",
       "       135563,  54392,  25868, 192176,  94238, 185714, 235987, 199698,\n",
       "       236809, 101374, 116408,  19070, 195369, 115950, 176636,  25637,\n",
       "       201313, 209362, 182304, 154530, 197737, 149707, 178713, 200577,\n",
       "        35533, 242595, 152856, 178620, 221058, 166902, 108866])"
      ]
     },
     "execution_count": 23,
     "metadata": {},
     "output_type": "execute_result"
    }
   ],
   "source": [
    "_, idx = np.unique(results[0], return_index=True)\n",
    "results[0][np.sort(idx)]"
   ]
  },
  {
   "cell_type": "code",
   "execution_count": null,
   "metadata": {},
   "outputs": [],
   "source": [
    "[213535  31350 165993 234557  80850  24343  61872 226869 139260 227084\n",
    "  98547 149424 229904 148135  84114 217070 245618 190964  80611  61568\n",
    " 136030  29021  91481 239799 145621 189399 248498  24558  58876 171950\n",
    " 258350   3355 248099  36998  90474  19727  45532 190951 106902 166796\n",
    " 104784 226389 152446 125811 194069 249346 213769 135563  54392  25868\n",
    " 192176  94238 185714 235987 199698 236809 101374 116408  19070 195369\n",
    " 115950 176636  25637 201313 209362 182304 154530 197737 149707 178713\n",
    " 200577  35533 242595 152856 178620 221058 166902 108866 129218 193789\n",
    "  14507  37673 209931 171591  38409  61810 203757 204261 237251 258403\n",
    " 135047 242235 168746  15122  71014 124041 246736 160347  90295 100364]"
   ]
  }
 ],
 "metadata": {
  "kernelspec": {
   "display_name": "Python 3",
   "language": "python",
   "name": "python3"
  },
  "language_info": {
   "codemirror_mode": {
    "name": "ipython",
    "version": 3
   },
   "file_extension": ".py",
   "mimetype": "text/x-python",
   "name": "python",
   "nbconvert_exporter": "python",
   "pygments_lexer": "ipython3",
   "version": "3.7.3"
  }
 },
 "nbformat": 4,
 "nbformat_minor": 2
}
